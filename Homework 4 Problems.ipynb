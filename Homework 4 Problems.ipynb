{
  "cells": [
    {
      "cell_type": "code",
      "execution_count": null,
      "metadata": {
        "id": "dFkqGs9NKb3s"
      },
      "outputs": [],
      "source": [
        "%pylab inline\n",
        "%config InlineBackend.figure_format = 'retina'\n",
        "from ipywidgets import interact\n",
        "import scipy.stats as stats\n",
        "import pandas as pd\n",
        "import pymc as pm ## If this line gives you an error, uncomment and execute the following cell"
      ]
    },
    {
      "cell_type": "code",
      "source": [
        "path_to_data = 'https://raw.githubusercontent.com/ccontrer/MATH509-Winter2025-JupyterNotebooks/main/Data/'\n",
        "data_all = pd.read_csv(path_to_data + \"Howell1.csv\", sep=\";\", header=0)"
      ],
      "metadata": {
        "id": "LTex3FwavBJy"
      },
      "execution_count": 3,
      "outputs": []
    },
    {
      "cell_type": "markdown",
      "metadata": {
        "id": "WLqKxLHTKb30"
      },
      "source": [
        "# Q1\n",
        "Please use the code from the Week 3 notebook and modify it as necessary to answer this question.\n",
        "\n",
        "Suppose a colleague of yours, who works on allometry, glances at the practice problems just above. Your colleague exclaims, “That’s silly. Everyone knows that it’s only the logarithm of body weight that scales with height!” Let’s take your colleague’s advice and see what happens.\n",
        "\n",
        "\n",
        "# A\n",
        "Model the relationship between height (cm) and the natural logarithm of weight (log-kg). Use the entire Howell1 data frame, all 544 rows, adults and non-adults.\n",
        "\n",
        "\\begin{align*}\n",
        "    h_{i} &\\sim \\text{Normal}(\\mu_{i}, \\sigma) \\\\\n",
        "    \\mu_{i} &= \\alpha + e^{\\log{\\beta}} \\log(w_i) \\\\\n",
        "    \\alpha &\\sim ? \\\\\n",
        "    \\log(\\beta) & \\sim ? \\\\\n",
        "    \\sigma & \\sim ?\n",
        "\\end{align*}\n",
        "\n",
        "# B\n",
        "To check the prior, plot 100 sample curves from prior predictive simulations (see Week 4 notebook for examples). Is the prior reasonable? Do you think it should be changed? Why or why not?\n",
        "\n",
        "# C\n",
        "Approximate the posterior distribution using the MCMC approximation (using Pymc3).\n",
        "\n",
        "# D\n",
        "Create a plot with the following information (each is a function of weight)\n",
        "  1. a scatter plot of the data (height vs weight)\n",
        "  2. predicted mean height\n",
        "  3. the 97% interval for the mean height (use `fillbetween`)\n",
        "  4. the 97% interval for posterior predicted heights (use `fillbetween`)\n",
        "  \n",
        "Be sure to label the $x$ and $y$ axis. Make it look nice."
      ]
    },
    {
      "cell_type": "code",
      "execution_count": null,
      "metadata": {
        "id": "Fq8r66-PKb31"
      },
      "outputs": [],
      "source": []
    }
  ],
  "metadata": {
    "colab": {
      "provenance": []
    },
    "kernelspec": {
      "display_name": "Python 3",
      "language": "python",
      "name": "python3"
    },
    "language_info": {
      "codemirror_mode": {
        "name": "ipython",
        "version": 3
      },
      "file_extension": ".py",
      "mimetype": "text/x-python",
      "name": "python",
      "nbconvert_exporter": "python",
      "pygments_lexer": "ipython3",
      "version": "3.7.3"
    }
  },
  "nbformat": 4,
  "nbformat_minor": 0
}